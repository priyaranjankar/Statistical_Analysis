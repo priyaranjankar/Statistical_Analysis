{
  "cells": [
    {
      "cell_type": "markdown",
      "source": [
        "## Importing Required Libraries:"
      ],
      "metadata": {
        "id": "cZqkNPsZjx18"
      }
    },
    {
      "cell_type": "code",
      "execution_count": null,
      "metadata": {
        "id": "_4dBJ-fkP4zG"
      },
      "outputs": [],
      "source": [
        "import numpy as np\n",
        "import pandas as pd\n",
        "import seaborn as sns\n",
        "import os\n",
        "import matplotlib.pyplot as plt\n",
        "import scipy.stats as stats\n",
        "import statsmodels.stats.proportion as pr"
      ]
    },
    {
      "cell_type": "markdown",
      "source": [
        "## Reading the datasets :\n",
        "\n",
        "The dataset deals with the small-scale units in the undivided state of Andhra Pradesh, India."
      ],
      "metadata": {
        "id": "WT9C1MKORCeH"
      }
    },
    {
      "cell_type": "code",
      "execution_count": null,
      "metadata": {
        "id": "726Mgy8yP4zO",
        "outputId": "79653369-b0ca-450d-d655-f277468a3a9d"
      },
      "outputs": [
        {
          "name": "stderr",
          "output_type": "stream",
          "text": [
            "D:\\PYTHON\\lib\\site-packages\\IPython\\core\\interactiveshell.py:3071: DtypeWarning: Columns (1) have mixed types.Specify dtype option on import or set low_memory=False.\n",
            "  has_raised = await self.run_ast_nodes(code_ast.body, cell_name,\n"
          ]
        },
        {
          "data": {
            "text/html": [
              "<div>\n",
              "<style scoped>\n",
              "    .dataframe tbody tr th:only-of-type {\n",
              "        vertical-align: middle;\n",
              "    }\n",
              "\n",
              "    .dataframe tbody tr th {\n",
              "        vertical-align: top;\n",
              "    }\n",
              "\n",
              "    .dataframe thead th {\n",
              "        text-align: right;\n",
              "    }\n",
              "</style>\n",
              "<table border=\"1\" class=\"dataframe\">\n",
              "  <thead>\n",
              "    <tr style=\"text-align: right;\">\n",
              "      <th></th>\n",
              "      <th>Index</th>\n",
              "      <th>SL_NO</th>\n",
              "      <th>ST_CODE</th>\n",
              "      <th>DIST_CODE</th>\n",
              "      <th>TTM_CODE</th>\n",
              "      <th>SECTOR_CODE</th>\n",
              "      <th>VT_CODE</th>\n",
              "      <th>WORKED_FOR_1D</th>\n",
              "      <th>CLOSED_Y</th>\n",
              "      <th>OPER_DUR_MM</th>\n",
              "      <th>...</th>\n",
              "      <th>REPAYMENT_DELAY</th>\n",
              "      <th>DECLINE_IN_GOP</th>\n",
              "      <th>DMD_PROB</th>\n",
              "      <th>WORK_CAP_PROB</th>\n",
              "      <th>RAW_MTRL_PROB</th>\n",
              "      <th>POWER_RPOB</th>\n",
              "      <th>LABOUR_PROB</th>\n",
              "      <th>MKT_PROB</th>\n",
              "      <th>EQUIP_PROB</th>\n",
              "      <th>MGMT_PROB</th>\n",
              "    </tr>\n",
              "  </thead>\n",
              "  <tbody>\n",
              "    <tr>\n",
              "      <th>0</th>\n",
              "      <td>26222</td>\n",
              "      <td>100937</td>\n",
              "      <td>28</td>\n",
              "      <td>12</td>\n",
              "      <td>14</td>\n",
              "      <td>1</td>\n",
              "      <td>13549</td>\n",
              "      <td>1</td>\n",
              "      <td></td>\n",
              "      <td>12</td>\n",
              "      <td>...</td>\n",
              "      <td></td>\n",
              "      <td>2</td>\n",
              "      <td></td>\n",
              "      <td></td>\n",
              "      <td></td>\n",
              "      <td></td>\n",
              "      <td></td>\n",
              "      <td></td>\n",
              "      <td></td>\n",
              "      <td></td>\n",
              "    </tr>\n",
              "    <tr>\n",
              "      <th>1</th>\n",
              "      <td>61229</td>\n",
              "      <td>87025</td>\n",
              "      <td>28</td>\n",
              "      <td>9</td>\n",
              "      <td>42</td>\n",
              "      <td>1</td>\n",
              "      <td>9506</td>\n",
              "      <td>1</td>\n",
              "      <td></td>\n",
              "      <td>12</td>\n",
              "      <td>...</td>\n",
              "      <td></td>\n",
              "      <td>2</td>\n",
              "      <td></td>\n",
              "      <td></td>\n",
              "      <td></td>\n",
              "      <td></td>\n",
              "      <td></td>\n",
              "      <td></td>\n",
              "      <td></td>\n",
              "      <td></td>\n",
              "    </tr>\n",
              "    <tr>\n",
              "      <th>2</th>\n",
              "      <td>16430</td>\n",
              "      <td>88319</td>\n",
              "      <td>28</td>\n",
              "      <td>6</td>\n",
              "      <td></td>\n",
              "      <td>2</td>\n",
              "      <td>406030</td>\n",
              "      <td>1</td>\n",
              "      <td></td>\n",
              "      <td>8</td>\n",
              "      <td>...</td>\n",
              "      <td></td>\n",
              "      <td>1</td>\n",
              "      <td>2</td>\n",
              "      <td>1</td>\n",
              "      <td>2</td>\n",
              "      <td>2</td>\n",
              "      <td>2</td>\n",
              "      <td>2</td>\n",
              "      <td>2</td>\n",
              "      <td>2</td>\n",
              "    </tr>\n",
              "    <tr>\n",
              "      <th>3</th>\n",
              "      <td>3829</td>\n",
              "      <td>13193</td>\n",
              "      <td>28</td>\n",
              "      <td>14</td>\n",
              "      <td>22</td>\n",
              "      <td>2</td>\n",
              "      <td>0</td>\n",
              "      <td>1</td>\n",
              "      <td></td>\n",
              "      <td>12</td>\n",
              "      <td>...</td>\n",
              "      <td></td>\n",
              "      <td>2</td>\n",
              "      <td></td>\n",
              "      <td></td>\n",
              "      <td></td>\n",
              "      <td></td>\n",
              "      <td></td>\n",
              "      <td></td>\n",
              "      <td></td>\n",
              "      <td></td>\n",
              "    </tr>\n",
              "    <tr>\n",
              "      <th>4</th>\n",
              "      <td>11926</td>\n",
              "      <td>46792</td>\n",
              "      <td>28</td>\n",
              "      <td>21</td>\n",
              "      <td>54</td>\n",
              "      <td>1</td>\n",
              "      <td>25649</td>\n",
              "      <td>1</td>\n",
              "      <td></td>\n",
              "      <td>12</td>\n",
              "      <td>...</td>\n",
              "      <td></td>\n",
              "      <td>1</td>\n",
              "      <td>1</td>\n",
              "      <td>1</td>\n",
              "      <td>2</td>\n",
              "      <td>1</td>\n",
              "      <td>1</td>\n",
              "      <td>1</td>\n",
              "      <td>2</td>\n",
              "      <td>2</td>\n",
              "    </tr>\n",
              "    <tr>\n",
              "      <th>...</th>\n",
              "      <td>...</td>\n",
              "      <td>...</td>\n",
              "      <td>...</td>\n",
              "      <td>...</td>\n",
              "      <td>...</td>\n",
              "      <td>...</td>\n",
              "      <td>...</td>\n",
              "      <td>...</td>\n",
              "      <td>...</td>\n",
              "      <td>...</td>\n",
              "      <td>...</td>\n",
              "      <td>...</td>\n",
              "      <td>...</td>\n",
              "      <td>...</td>\n",
              "      <td>...</td>\n",
              "      <td>...</td>\n",
              "      <td>...</td>\n",
              "      <td>...</td>\n",
              "      <td>...</td>\n",
              "      <td>...</td>\n",
              "      <td>...</td>\n",
              "    </tr>\n",
              "    <tr>\n",
              "      <th>9995</th>\n",
              "      <td>40094</td>\n",
              "      <td>40168</td>\n",
              "      <td>28</td>\n",
              "      <td>10</td>\n",
              "      <td>10</td>\n",
              "      <td>1</td>\n",
              "      <td>10218</td>\n",
              "      <td>1</td>\n",
              "      <td></td>\n",
              "      <td>12</td>\n",
              "      <td>...</td>\n",
              "      <td></td>\n",
              "      <td>2</td>\n",
              "      <td></td>\n",
              "      <td></td>\n",
              "      <td></td>\n",
              "      <td></td>\n",
              "      <td></td>\n",
              "      <td></td>\n",
              "      <td></td>\n",
              "      <td></td>\n",
              "    </tr>\n",
              "    <tr>\n",
              "      <th>9996</th>\n",
              "      <td>51911</td>\n",
              "      <td>26012</td>\n",
              "      <td>28</td>\n",
              "      <td>5</td>\n",
              "      <td></td>\n",
              "      <td>2</td>\n",
              "      <td></td>\n",
              "      <td>1</td>\n",
              "      <td></td>\n",
              "      <td>9</td>\n",
              "      <td>...</td>\n",
              "      <td></td>\n",
              "      <td>2</td>\n",
              "      <td></td>\n",
              "      <td></td>\n",
              "      <td></td>\n",
              "      <td></td>\n",
              "      <td></td>\n",
              "      <td></td>\n",
              "      <td></td>\n",
              "      <td></td>\n",
              "    </tr>\n",
              "    <tr>\n",
              "      <th>9997</th>\n",
              "      <td>32896</td>\n",
              "      <td>51456</td>\n",
              "      <td>28</td>\n",
              "      <td>7</td>\n",
              "      <td>20</td>\n",
              "      <td>2</td>\n",
              "      <td>407030</td>\n",
              "      <td>1</td>\n",
              "      <td></td>\n",
              "      <td>12</td>\n",
              "      <td>...</td>\n",
              "      <td></td>\n",
              "      <td>2</td>\n",
              "      <td></td>\n",
              "      <td></td>\n",
              "      <td></td>\n",
              "      <td></td>\n",
              "      <td></td>\n",
              "      <td></td>\n",
              "      <td></td>\n",
              "      <td></td>\n",
              "    </tr>\n",
              "    <tr>\n",
              "      <th>9998</th>\n",
              "      <td>51771</td>\n",
              "      <td>54690</td>\n",
              "      <td>28</td>\n",
              "      <td>4</td>\n",
              "      <td>45</td>\n",
              "      <td>1</td>\n",
              "      <td>4989</td>\n",
              "      <td>1</td>\n",
              "      <td></td>\n",
              "      <td>6</td>\n",
              "      <td>...</td>\n",
              "      <td></td>\n",
              "      <td>2</td>\n",
              "      <td>2</td>\n",
              "      <td>1</td>\n",
              "      <td>2</td>\n",
              "      <td>2</td>\n",
              "      <td>2</td>\n",
              "      <td>2</td>\n",
              "      <td>2</td>\n",
              "      <td>2</td>\n",
              "    </tr>\n",
              "    <tr>\n",
              "      <th>9999</th>\n",
              "      <td>45929</td>\n",
              "      <td>95132</td>\n",
              "      <td>28</td>\n",
              "      <td>6</td>\n",
              "      <td></td>\n",
              "      <td>2</td>\n",
              "      <td>406080</td>\n",
              "      <td>1</td>\n",
              "      <td></td>\n",
              "      <td>7</td>\n",
              "      <td>...</td>\n",
              "      <td></td>\n",
              "      <td>1</td>\n",
              "      <td>2</td>\n",
              "      <td>1</td>\n",
              "      <td>2</td>\n",
              "      <td>1</td>\n",
              "      <td>2</td>\n",
              "      <td>2</td>\n",
              "      <td>1</td>\n",
              "      <td>2</td>\n",
              "    </tr>\n",
              "  </tbody>\n",
              "</table>\n",
              "<p>10000 rows × 65 columns</p>\n",
              "</div>"
            ],
            "text/plain": [
              "      Index   SL_NO  ST_CODE  DIST_CODE TTM_CODE  SECTOR_CODE VT_CODE  \\\n",
              "0     26222  100937       28         12       14            1   13549   \n",
              "1     61229   87025       28          9       42            1    9506   \n",
              "2     16430   88319       28          6                     2  406030   \n",
              "3      3829   13193       28         14       22            2       0   \n",
              "4     11926   46792       28         21       54            1   25649   \n",
              "...     ...     ...      ...        ...      ...          ...     ...   \n",
              "9995  40094   40168       28         10       10            1   10218   \n",
              "9996  51911   26012       28          5                     2           \n",
              "9997  32896   51456       28          7       20            2  407030   \n",
              "9998  51771   54690       28          4       45            1    4989   \n",
              "9999  45929   95132       28          6                     2  406080   \n",
              "\n",
              "      WORKED_FOR_1D CLOSED_Y  OPER_DUR_MM  ... REPAYMENT_DELAY  \\\n",
              "0                 1                    12  ...                   \n",
              "1                 1                    12  ...                   \n",
              "2                 1                     8  ...                   \n",
              "3                 1                    12  ...                   \n",
              "4                 1                    12  ...                   \n",
              "...             ...      ...          ...  ...             ...   \n",
              "9995              1                    12  ...                   \n",
              "9996              1                     9  ...                   \n",
              "9997              1                    12  ...                   \n",
              "9998              1                     6  ...                   \n",
              "9999              1                     7  ...                   \n",
              "\n",
              "      DECLINE_IN_GOP  DMD_PROB WORK_CAP_PROB  RAW_MTRL_PROB POWER_RPOB  \\\n",
              "0                  2                                                     \n",
              "1                  2                                                     \n",
              "2                  1         2             1              2          2   \n",
              "3                  2                                                     \n",
              "4                  1         1             1              2          1   \n",
              "...              ...       ...           ...            ...        ...   \n",
              "9995               2                                                     \n",
              "9996               2                                                     \n",
              "9997               2                                                     \n",
              "9998               2         2             1              2          2   \n",
              "9999               1         2             1              2          1   \n",
              "\n",
              "      LABOUR_PROB  MKT_PROB  EQUIP_PROB  MGMT_PROB  \n",
              "0                                                   \n",
              "1                                                   \n",
              "2               2         2           2          2  \n",
              "3                                                   \n",
              "4               1         1           2          2  \n",
              "...           ...       ...         ...        ...  \n",
              "9995                                                \n",
              "9996                                                \n",
              "9997                                                \n",
              "9998            2         2           2          2  \n",
              "9999            2         2           1          2  \n",
              "\n",
              "[10000 rows x 65 columns]"
            ]
          },
          "execution_count": 28,
          "metadata": {},
          "output_type": "execute_result"
        }
      ],
      "source": [
        "group_dataset = pd.read_csv(r'C:\\Users\\Stastical Analysis\\datafile.csv')\n",
        "group_dataset"
      ]
    },
    {
      "cell_type": "code",
      "execution_count": null,
      "metadata": {
        "id": "n2mIGkNpP4zQ",
        "outputId": "f0c2bb99-44fe-44cb-86dd-f800cf5f0804"
      },
      "outputs": [
        {
          "data": {
            "text/plain": [
              "(10000, 65)"
            ]
          },
          "execution_count": 29,
          "metadata": {},
          "output_type": "execute_result"
        }
      ],
      "source": [
        "group_dataset.shape"
      ]
    },
    {
      "cell_type": "code",
      "execution_count": null,
      "metadata": {
        "id": "klSaIIOOP4zR",
        "outputId": "4fe651cd-ba2e-4a9a-8b22-45ca8f48a0ba"
      },
      "outputs": [
        {
          "data": {
            "text/plain": [
              "(8382, 65)"
            ]
          },
          "execution_count": 198,
          "metadata": {},
          "output_type": "execute_result"
        }
      ],
      "source": [
        "# We have 10000 records with 65 columns\n",
        "\n",
        "# Custom function for removing outliers\n",
        "\n",
        "def outlier_removal(data,col):\n",
        "    percentile_25 = data[col].quantile(0.25)\n",
        "\n",
        "    percentile_75 = data[col].quantile(0.75)\n",
        "\n",
        "    inter_quartile_range = percentile_75 - percentile_25\n",
        "\n",
        "    upper_limit = percentile_75 + 1.5 * inter_quartile_range\n",
        "    lower_limit = percentile_25 - 1.5 * inter_quartile_range\n",
        "\n",
        "    data[data[col] > upper_limit]\n",
        "    data[data[col] > lower_limit]\n",
        "\n",
        "    return data[(data[col] < upper_limit) & (data[col] > lower_limit)]"
      ]
    },
    {
      "cell_type": "markdown",
      "source": [
        "### Business question:\n",
        "Please determine a 95 percent confidence interval for the 'Gross Output - Year 3 (Rs)' to assess the range within which we can reasonably expect the true value of this financial metric.\n",
        "\n",
        "### Solution strategy:\n",
        "\n",
        "1. Outlier removal\n",
        "2. Calculate the mean of the variable\n",
        "3. Get the z-critical value for 95% confidence interval\n"
      ],
      "metadata": {
        "id": "_9cPJLe4TF_h"
      }
    },
    {
      "cell_type": "code",
      "source": [
        "# Removing outliers from variable 'GOP_Year3'\n",
        "DataSet = outlier_removal(group_dataset,\"GOP_Year3\")\n",
        "DataSet.shape"
      ],
      "metadata": {
        "id": "-OHtmbHHStxA"
      },
      "execution_count": null,
      "outputs": []
    },
    {
      "cell_type": "code",
      "execution_count": null,
      "metadata": {
        "id": "NMT0Kh1QP4zT",
        "outputId": "8b9e1503-49c6-4eda-b626-c6c736e6d31b"
      },
      "outputs": [
        {
          "data": {
            "text/plain": [
              "Index          0\n",
              "SL_NO          0\n",
              "ST_CODE        0\n",
              "DIST_CODE      0\n",
              "TTM_CODE       0\n",
              "              ..\n",
              "POWER_RPOB     0\n",
              "LABOUR_PROB    0\n",
              "MKT_PROB       0\n",
              "EQUIP_PROB     0\n",
              "MGMT_PROB      0\n",
              "Length: 65, dtype: int64"
            ]
          },
          "execution_count": 199,
          "metadata": {},
          "output_type": "execute_result"
        }
      ],
      "source": [
        "df = DataSet.isnull().sum()\n",
        "df"
      ]
    },
    {
      "cell_type": "code",
      "execution_count": null,
      "metadata": {
        "id": "g34W4QWaP4zV",
        "outputId": "2212bc63-4883-4cb7-ca3a-a1ef69a0fa33"
      },
      "outputs": [
        {
          "name": "stdout",
          "output_type": "stream",
          "text": [
            "95% confidence interval for GOP_Year3 is:  (147061.91730818196, 154676.08269181804)\n"
          ]
        }
      ],
      "source": [
        "#Q1\n",
        "#calculating mean of GOP_year3\n",
        "goutput3_mean = round(DataSet['GOP_Year3'].mean())\n",
        "\n",
        "#Fetching the GOP_Year3 column into an array\n",
        "goutput_3 = np.array(DataSet['GOP_Year3'])\n",
        "\n",
        "#Calculating confidence interval for the GOP_Year3 mean at 95% confidence level\n",
        "confidence_interval = stats.norm.interval(alpha=0.95, loc=goutput3_mean, scale=stats.sem(goutput_3))\n",
        "\n",
        "#result\n",
        "print('95% confidence interval for GOP_Year3 is: ', confidence_interval)\n"
      ]
    },
    {
      "cell_type": "markdown",
      "source": [
        "## Business Question:\n",
        "Which two performance measures would you recommend for assessing unit performance within the context of our business?  \n",
        "All subsequent analyses will be based on these metric definitions, influencing our approach to evaluating unit performance.\n",
        "\n",
        "## Solution:\n",
        "The two metrics we have considered for defining the performance are:\n",
        "\n",
        "1. Returns on Investment -ROI i.e. Net Year 3 profit that is divided by the initial investment on plant and machinery.\n",
        "2. Net Profit per Employee - NP_EMP i.e. Net Year 3 profit that is divided by the Total Employees number\n",
        "\n",
        "The above metrics help define both elements of investments - Financial and Human Resources.\n",
        "\n",
        "Below is how we calculate our defined measures here."
      ],
      "metadata": {
        "id": "DiY_0UBGVdsg"
      }
    },
    {
      "cell_type": "code",
      "execution_count": null,
      "metadata": {
        "id": "dF9-ZLVlP4zX",
        "outputId": "66619148-7a42-4473-c18e-5e78e138c46c"
      },
      "outputs": [
        {
          "name": "stderr",
          "output_type": "stream",
          "text": [
            "<ipython-input-203-22bf38ce736e>:13: SettingWithCopyWarning: \n",
            "A value is trying to be set on a copy of a slice from a DataFrame.\n",
            "Try using .loc[row_indexer,col_indexer] = value instead\n",
            "\n",
            "See the caveats in the documentation: https://pandas.pydata.org/pandas-docs/stable/user_guide/indexing.html#returning-a-view-versus-a-copy\n",
            "  DataSet['ROI'] = DataSet['NET_Year3']/DataSet['ORI_PURC_VAL_PM']\n",
            "D:\\PYTHON\\lib\\site-packages\\numpy\\core\\_methods.py:151: RuntimeWarning: invalid value encountered in reduce\n",
            "  ret = umr_sum(arr, axis, dtype, out, keepdims)\n"
          ]
        },
        {
          "data": {
            "image/png": "[encoded data removed]",
            "text/plain": [
              "<Figure size 432x288 with 1 Axes>"
            ]
          },
          "metadata": {
            "needs_background": "light"
          },
          "output_type": "display_data"
        },
        {
          "name": "stderr",
          "output_type": "stream",
          "text": [
            "<ipython-input-203-22bf38ce736e>:18: SettingWithCopyWarning: \n",
            "A value is trying to be set on a copy of a slice from a DataFrame.\n",
            "Try using .loc[row_indexer,col_indexer] = value instead\n",
            "\n",
            "See the caveats in the documentation: https://pandas.pydata.org/pandas-docs/stable/user_guide/indexing.html#returning-a-view-versus-a-copy\n",
            "  DataSet['NP_EMP'] = DataSet['NET_Year3'] / DataSet['EMP_TOTAL']\n"
          ]
        },
        {
          "data": {
            "image/png": "[encoded data removed]",
            "text/plain": [
              "<Figure size 432x288 with 1 Axes>"
            ]
          },
          "metadata": {
            "needs_background": "light"
          },
          "output_type": "display_data"
        }
      ],
      "source": [
        "# Derived Performance metrics:\n",
        "\n",
        "# 1) Return on Investment measure - Net of Year 3 is divided by the Original Purchase value  plant & machinery\n",
        "DataSet['ROI'] = DataSet['NET_Year3']/DataSet['ORI_PURC_VAL_PM']\n",
        "sns.boxplot(DataSet['ROI'])\n",
        "plt.show()\n",
        "\n",
        "# 2) Net Profit per Employee\n",
        "DataSet['NP_EMP'] = DataSet['NET_Year3'] / DataSet['EMP_TOTAL']\n",
        "sns.boxplot(DataSet['NP_EMP'])\n",
        "plt.show()"
      ]
    },
    {
      "cell_type": "markdown",
      "source": [
        "## Business Question:\n",
        "What is the likelihood that, randomly chosen, a firm belongs to the category of Small Scale and Sustainable Business Enterprises (SSSBE)?\n",
        "\n",
        "## Solution:"
      ],
      "metadata": {
        "id": "FrNPvs53dwKs"
      }
    },
    {
      "cell_type": "code",
      "execution_count": null,
      "metadata": {
        "id": "DDcivNxbP4zZ",
        "outputId": "671cbad5-6e91-49ce-9780-37ece509a919"
      },
      "outputs": [
        {
          "name": "stdout",
          "output_type": "stream",
          "text": [
            "Number of SSSBE units are: 2099\n",
            "probability that a firm selected at random is a SSSBE unit is  0.25\n"
          ]
        }
      ],
      "source": [
        "# unit_type 2 beongs to 'SSSBE'\n",
        "sssbe_unit = DataSet[DataSet['UNIT_TYPE'] == 2]\n",
        "print( \"Number of SSSBE units are:\",len(sssbe_unit))\n",
        "\n",
        "sssbe_prob = len(sssbe_unit) / len(DataSet)\n",
        "print('probability that a firm selected at random is a SSSBE unit is ', round(sssbe_prob,2))"
      ]
    },
    {
      "cell_type": "markdown",
      "source": [
        "## Business Question:\n",
        "In our business analysis, we seek to investigate whether the population average of the variable 'Value of Exports for Year 3' is $87,300 or if it deviates significantly from this value.\n",
        "\n",
        "This inquiry will involve conducting a hypothesis test, where we will clearly define our null hypothesis (H0) and our alternative hypothesis (Ha).\n",
        "\n",
        "## Solution:\n",
        "\n",
        "- ### *Null Hypothesis (H0):*\n",
        "\"In our business analysis, we assume that the population average of the variable 'Value of Exports for Year 3' is equal to $87,300.\"\n",
        "\n",
        "- ### *Alternative Hypothesis (Ha):*\n",
        "\"We explore the possibility that the population average of the variable 'Value of Exports for Year 3' differs significantly from $87,300, suggesting a meaningful deviation from this value with potential business implications.\"\n",
        "\n",
        "## Strategy:\n",
        "1. We calculate the actual mean of 'Value of Exports for Year 3' from our dataset.\n",
        "2. Since our calculated mean is significantly higher than the value stated in the null hypothesis, we opt for a right-tailed test.\n",
        "3. We set our level of confidence at 0.05 (5% significance level).\n",
        "4. We fetch the 'Value of Exports for Year 3' column into an array for analysis.\n",
        "5. Using statistical testing, we compute the t-statistic and p-value for the one-sample t-test.\n",
        "\n",
        "As scipy does not directly support one-sided tests, we divide the p-value by 2 to get the desired result for our right-tailed test.\n",
        "Finally, we make a decision based on the p-value:\n",
        "- If p-value < 0.05, we reject the null hypothesis.\n",
        "- If p-value > 0.05, we accept the null hypothesis.\n",
        "\n",
        "This analysis will help us determine whether there is strong evidence to conclude that the population mean for 'Value of Exports for Year 3' differs significantly from the specified value of $87,300, which can have important business implications."
      ],
      "metadata": {
        "id": "4ju9tBsXeuem"
      }
    },
    {
      "cell_type": "code",
      "execution_count": null,
      "metadata": {
        "id": "U-EnM9m-P4za",
        "outputId": "8c56c21d-e4b5-4322-b13b-bb3968e1b7f0"
      },
      "outputs": [
        {
          "name": "stdout",
          "output_type": "stream",
          "text": [
            "Our Null hypothesis states that population mean 'µ' for 'Value of Exports for Year 3' is 87300\n",
            "Our Alternate hypothesis states that population mean 'µ' for 'Value of Exports for Year 3' is > 87300\n",
            "t-statistic is  -490.9264918014488\n",
            "p-value is  1.0\n",
            "As, p val is > 0.05, we are accepting the null hypothesis.\n"
          ]
        }
      ],
      "source": [
        "#Null Hypothesis:\n",
        "#population average of \"Value of Exports for Year 3\"\n",
        "#=> µ = 87,300\n",
        "print(\"Our Null hypothesis states that population mean 'µ' for 'Value of Exports for Year 3' is\",87300)\n",
        "#finding out actual mean from our dataset\n",
        "VOEyear3_mean = round(DataSet['VOE_Year3'].mean(),2)\n",
        "VOEyear3_mean\n",
        "\n",
        "#Alternate Hypothesis:\n",
        "#population average of \"Value of Exports for Year 3\"\n",
        "#=> µ > 87,300\n",
        "print(\"Our Alternate hypothesis states that population mean 'µ' for 'Value of Exports for Year 3' is >\",87300)\n",
        "\n",
        "#choosing the right-tailed test here , as we can clearly see the calculated mean from our dataset\n",
        "#is way higher than the one stated in our null hypothesis\n",
        "\n",
        "#Running a one-sided test\n",
        "#choosing level of confidence as \"0.05\"\n",
        "\n",
        "#Fetching the VOE_Year3 column into an array\n",
        "x = 87300\n",
        "VOE_3 = np.array(DataSet['VOE_Year3'])\n",
        "\n",
        "t_stat, pval = stats.ttest_1samp(a = VOE_3, popmean = x)\n",
        "\n",
        "#As, we dont have any provision to run a 1 sided test directly in package: \"scipy\",\n",
        "#we need to divide the p-value by 2 to get our desired result\n",
        "#as, its a right-tailed test\n",
        "pval_final = 1- (pval/2)\n",
        "\n",
        "#results\n",
        "print('t-statistic is ',t_stat)\n",
        "print('p-value is ',pval_final)\n",
        "\n",
        "#decision\n",
        "if pval_final < 0.05:    # alpha value is 0.05 or 5%\n",
        "   print(\"As, p val is < 0.05, we are rejecting the null hypothesis.\")\n",
        "else:\n",
        "  print(\"As, p val is > 0.05, we are accepting the null hypothesis.\")"
      ]
    },
    {
      "cell_type": "markdown",
      "source": [
        "## Business Question:\n",
        "In context of business analysis, we need to assess the gender distribution among the leadership of Small Scale and Sustainable Business Enterprises (SSSBEs).\n",
        "\n",
        "Is there evidence to suggest that a higher proportion of SSSBEs are managed by men rather than women?\n",
        "\n",
        "## Solution:\n",
        "\n",
        "- ### *Null Hypothesis (H0):*\n",
        "\"Our analysis assumes that there is no significant difference in the proportion of Small Scale and Sustainable Business Enterprises (SSSBEs) managed by men compared to women. In other words, the proportion of SSSBEs managed by men is equal to or less than the proportion managed by women.\"\n",
        "\n",
        "- ### *Alternative Hypothesis (Ha):*\n",
        "\"Our alternative hypothesis posits that a larger proportion of SSSBEs are managed by men as opposed to women. We are testing whether there is a notable difference in the proportions, with men occupying a greater share of management roles within SSSBEs.\"\n",
        "\n",
        "## Strategy:\n",
        "1. Data Selection:\n",
        "Filtered the dataset to isolate SSSBE units based on 'UNIT_TYPE'\n",
        "\n",
        "2. Gender-Based Filtering:\n",
        "Further refining the dataset to identify SSSBE units managed by men, based on 'MAN_BY' criteria.\n",
        "\n",
        "3. Proportion Calculation:\n",
        "Calculating the proportion of SSSBE units managed by men and women.\n",
        "\n",
        "4. Hypotheses Formulation:\n",
        "\n",
        "- Stated hypotheses:\n",
        "  - Null Hypothesis (H0): No significant difference in the proportion of SSSBEs managed by men versus women.\n",
        "  - Alternative Hypothesis (Ha): A larger proportion of SSSBEs are managed by men compared to women.\n",
        "\n",
        "5. Significance Level Selection:\n",
        "Chose a significance level (e.g., 0.05) to guide hypothesis testing.\n",
        "\n",
        "6. Statistical Testing:\n",
        "Conducting a proportions z-test to assess whether the proportion of SSSBEs managed by men is significantly greater than 50%.\n",
        "\n",
        "7. Result Interpretation:\n",
        "- Analyzing the results:\n",
        "  - If p-value < significance level, rejecting the null hypothesis, indicating a significant gender distribution difference.\n",
        "  - If p-value > significance level, accepting the null hypothesis, suggesting no strong evidence of gender bias.\n"
      ],
      "metadata": {
        "id": "Oh8K1QL4gkwp"
      }
    },
    {
      "cell_type": "code",
      "execution_count": null,
      "metadata": {
        "id": "oXcWkMV_P4zb",
        "outputId": "2662384f-2ce0-41d5-f73f-c74659366dab"
      },
      "outputs": [
        {
          "name": "stdout",
          "output_type": "stream",
          "text": [
            "number of SSSBE units 2099\n",
            "number of SSSBE units managed by men 2037\n",
            "So, proportion of SSSBE units managed by men is 0.97\n",
            "So, proportion of SSSBE units managed by women is 0.03\n",
            "Our Alternate Hypothesis states that larger proportion of SSSBEs are managed by men as compared to women.\n",
            "Our Null Hypothesis states that larger proportion of SSSBEs are not managed by men as compared to women.\n",
            "z value is -1064.87\n",
            "p-value is 0.0\n",
            "As, p value is < 0.05, we are rejecting the Null hypothesis & hence we accept the alternate hypothesis that larger proportion of SSSBEs are managed by men as compared to women.\n"
          ]
        }
      ],
      "source": [
        "#filtering the dataset for only SSSBE units on column \"UNIT_TYPE\"\n",
        "\n",
        "sssbe_unit = DataSet[(DataSet['UNIT_TYPE'] == 2)]\n",
        "print(\"number of SSSBE units\",len(sssbe_unit))\n",
        "\n",
        "#filtering again for managed by men\n",
        "sssbe_men = sssbe_unit[(sssbe_unit['MAN_BY'] == 1)]\n",
        "print(\"number of SSSBE units managed by men\", len(sssbe_men))\n",
        "prop_men = round((len(sssbe_men)/len(sssbe_unit)),2)\n",
        "prop_women = round((1- prop_men),2)\n",
        "print(\"So, proportion of SSSBE units managed by men is\",prop_men)\n",
        "print(\"So, proportion of SSSBE units managed by women is\",prop_women)\n",
        "\n",
        "#Stating our hypothesis\n",
        "\n",
        "##ALT Hypothesis:\n",
        "#prop_men > 0.5\n",
        "print(\"Our Alternate Hypothesis states that larger proportion of SSSBEs are managed by men as compared to women.\")\n",
        "\n",
        "##NULL Hypothesis:\n",
        "#prop_men < 0.5 OR prop_men = 0.5\n",
        "print(\"Our Null Hypothesis states that larger proportion of SSSBEs are not managed by men as compared to women.\")\n",
        "\n",
        "\n",
        "\n",
        "significance = 0.05\n",
        "zval, p_value = pr.proportions_ztest(count = prop_men, nobs = len(sssbe_unit), value = 0.5)\n",
        "print( 'z value is', round(zval,2))\n",
        "print( 'p-value is', p_value)\n",
        "\n",
        "#decision\n",
        "if p_value < significance:    # alpha value is 0.05 or 5%\n",
        "   print(\"As, p value is < 0.05, we are rejecting the Null hypothesis\",\"& hence we accept the alternate hypothesis that larger proportion of SSSBEs are managed by men as compared to women.\")\n",
        "else:\n",
        "  print(\"As, p value is > 0.05, we are accepting the Null hypothesis\",\"that larger proportion of SSSBEs are not managed by men as compared to women.\")"
      ]
    }
  ],
  "metadata": {
    "kernelspec": {
      "display_name": "Python 3",
      "language": "python",
      "name": "python3"
    },
    "language_info": {
      "codemirror_mode": {
        "name": "ipython",
        "version": 3
      },
      "file_extension": ".py",
      "mimetype": "text/x-python",
      "name": "python",
      "nbconvert_exporter": "python",
      "pygments_lexer": "ipython3",
      "version": "3.8.3"
    },
    "colab": {
      "provenance": []
    }
  },
  "nbformat": 4,
  "nbformat_minor": 0
}
